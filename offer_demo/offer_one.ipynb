{
 "cells": [
  {
   "cell_type": "code",
   "execution_count": 4,
   "metadata": {},
   "outputs": [
    {
     "data": {
      "text/plain": [
       "7"
      ]
     },
     "execution_count": 4,
     "metadata": {},
     "output_type": "execute_result"
    }
   ],
   "source": [
    "import time\n",
    "'''\n",
    "最长字串匹配\n",
    "'''\n",
    "def long_sub_str(sent):\n",
    "    if sent:\n",
    "        ss = set()\n",
    "        ans = 0\n",
    "        for i, s in enumerate(sent):\n",
    "            rk = i - 1\n",
    "            while rk + 1 < len(sent) and s not in ss:\n",
    "                ans += 1\n",
    "                rk += 1\n",
    "                ss.add(s)\n",
    "            ans = max(ans, rk - i + 1)\n",
    "        return ans\n",
    "\n",
    "sent = \"abcdefg\"\n",
    "\n",
    "long_sub_str(sent)"
   ]
  },
  {
   "cell_type": "code",
   "execution_count": 7,
   "metadata": {},
   "outputs": [
    {
     "name": "stdout",
     "output_type": "stream",
     "text": [
      "1\n",
      "2\n",
      "3\n",
      "4\n",
      "5\n",
      "10\n",
      "15\n",
      "20\n",
      "19\n",
      "18\n",
      "17\n",
      "16\n",
      "11\n",
      "6\n",
      "7\n",
      "8\n",
      "9\n",
      "14\n",
      "13\n",
      "12\n"
     ]
    }
   ],
   "source": [
    "def print_matrix_in_cricle(numbers, start):\n",
    "    if numbers:\n",
    "        end_x = len(numbers[0]) - 1 - start\n",
    "        end_y = len(numbers) - 1 - start\n",
    "\n",
    "        # 从左到右打印一行\n",
    "        for i in range(start, end_x + 1):\n",
    "            print(numbers[start][i])\n",
    "        \n",
    "        # 从上到下打印一列\n",
    "        if start < end_y:\n",
    "            for i in range(start + 1, end_y + 1):\n",
    "                print(numbers[i][end_x])\n",
    "\n",
    "        # 从右到左打印一行\n",
    "        if start < end_x and start < end_y:\n",
    "            a = [i for i in range(start, end_x)]\n",
    "            for i in a[::-1]:\n",
    "                print(numbers[end_y][i])\n",
    "\n",
    "        # 从下到上打印一行\n",
    "        if start <= end_x and start + 1 < end_y:\n",
    "            a = [i for i in range(start + 1, end_y)]\n",
    "            for i in a[::-1]:\n",
    "                print(numbers[i][start])\n",
    "        \n",
    "def print_matrix_core(numbers):\n",
    "    if numbers:\n",
    "        start = 0\n",
    "\n",
    "        while start * 2 < len(numbers) and start * 2 < len(numbers[0]):\n",
    "            print_matrix_in_cricle(numbers, start)\n",
    "            start += 1\n",
    "\n",
    "numbers = [\n",
    "    [1, 2, 3, 4, 5],\n",
    "    [6, 7, 8, 9, 10],\n",
    "    [11, 12, 13, 14, 15],\n",
    "    [16, 17, 18, 19, 20]\n",
    "]\n",
    "\n",
    "print_matrix_core(numbers)\n"
   ]
  },
  {
   "cell_type": "code",
   "execution_count": 4,
   "metadata": {},
   "outputs": [
    {
     "data": {
      "text/plain": [
       "8"
      ]
     },
     "execution_count": 4,
     "metadata": {},
     "output_type": "execute_result"
    }
   ],
   "source": [
    "# 无重复最长字串的长度\n",
    "def length_of_sub_string(s):\n",
    "    result = {}\n",
    "    start, ans = 0, 0\n",
    "    for end in range(len(s)):\n",
    "        if s[end] in result:\n",
    "            start = max(start, result[s[end]] + 1)\n",
    "        result[s[end]] = end\n",
    "\n",
    "        ans = max(ans, end - start + 1)\n",
    "    return ans\n",
    "\n",
    "ss = \"sdfsdfsdfsdfssdfghjklsdsd\"\n",
    "length_of_sub_string(ss)"
   ]
  },
  {
   "cell_type": "code",
   "execution_count": 8,
   "metadata": {},
   "outputs": [
    {
     "data": {
      "text/plain": [
       "False"
      ]
     },
     "execution_count": 8,
     "metadata": {},
     "output_type": "execute_result"
    }
   ],
   "source": [
    "# 给定一个入栈序列和一个出栈序列，判断出栈序列是否满足入栈序列\n",
    "\n",
    "push = [1, 2, 3, 4, 5]\n",
    "pop = [4, 5, 3, 1, 2]\n",
    "\n",
    "class Stack(object):\n",
    "    def __init__(self) -> None:\n",
    "        super().__init__()\n",
    "        self.stack = []\n",
    "    \n",
    "    def pop(self):\n",
    "        return self.stack.pop()\n",
    "\n",
    "    def push(self, number):\n",
    "        self.stack.append(number)\n",
    "\n",
    "    def length(self):\n",
    "        return len(self.stack)\n",
    "    \n",
    "    def top(self):\n",
    "        return self.stack[-1]\n",
    "\n",
    "def is_pop_and_push(p_push, p_pop):\n",
    "    flag = False\n",
    "    push_index = 0\n",
    "    pop_index = 0\n",
    "    stack_data = Stack()\n",
    "    while pop_index < len(p_pop):\n",
    "        while stack_data.length() == 0 or stack_data.top() != p_pop[pop_index]:\n",
    "            if push_index == len(p_push):\n",
    "                break\n",
    "            stack_data.push(p_push[push_index])\n",
    "            push_index += 1\n",
    "        if stack_data.top() != p_pop[pop_index]:\n",
    "            break\n",
    "        stack_data.pop()\n",
    "        pop_index += 1\n",
    "\n",
    "    if stack_data.length() == 0 and push_index == len(p_push):\n",
    "        flag = True\n",
    "\n",
    "    return flag\n",
    "\n",
    "is_pop_and_push(push, pop)"
   ]
  },
  {
   "cell_type": "code",
   "execution_count": 9,
   "metadata": {},
   "outputs": [
    {
     "data": {
      "text/plain": [
       "[]"
      ]
     },
     "execution_count": 9,
     "metadata": {},
     "output_type": "execute_result"
    }
   ],
   "source": [
    "# 从上到下打印二叉树\n",
    "\n",
    "class Queue():\n",
    "    def __init__(self) -> None:\n",
    "        self.queue = []\n",
    "        self.front = 0\n",
    "        self.rear = 0\n",
    "\n",
    "    def is_empty(self):\n",
    "        return self.front == self.rear\n",
    "\n",
    "    def size(self):\n",
    "        return self.rear - self.front\n",
    "\n",
    "    def get_front(self):\n",
    "        if self.is_empty():\n",
    "            return None\n",
    "        return self.queue[self.front]\n",
    "\n",
    "    def get_back(self):\n",
    "        if self.is_empty():\n",
    "            return None\n",
    "        return self.queue[self.rear - 1]\n",
    "\n",
    "    def de_queue(self):\n",
    "        if self.rear > self.front:\n",
    "            tmp = self.queue[self.front]\n",
    "            self.front += 1\n",
    "            return tmp\n",
    "        else:\n",
    "            return None\n",
    "\n",
    "    def en_queue(self, item):\n",
    "        self.queue.append(item)\n",
    "        self.rear += 1\n",
    "\n",
    "class Tree():\n",
    "    def __init__(self, value) -> None:\n",
    "        self.value = value\n",
    "        self.left = None\n",
    "        self.right = None\n",
    "\n",
    "\n",
    "def print_two_tree(tree):\n",
    "\n",
    "    if tree:\n",
    "        queue = Queue()\n",
    "        result = []\n",
    "        queue.en_queue(tree)\n",
    "        while queue.size():\n",
    "            item = queue.de_queue()\n",
    "            if item:\n",
    "                result.append(item.value)\n",
    "                if item.left:\n",
    "                    queue.en_queue(item.left)\n",
    "                if item.right:\n",
    "                    queue.en_queue(item.right)\n",
    "        return result\n",
    "\n",
    "\n",
    "tree1 = Tree(8)\n",
    "tree2 = Tree(6)\n",
    "tree3 = Tree(10)\n",
    "tree4 = Tree(5)\n",
    "tree5 = Tree(7)\n",
    "tree6 = Tree(9)\n",
    "tree7 = Tree(11)\n",
    "\n",
    "tree1.left = tree2\n",
    "tree1.right = tree3\n",
    "\n",
    "tree2.left = tree4\n",
    "tree2.right = tree5\n",
    "\n",
    "tree3.left = tree6\n",
    "tree3.right = tree7\n",
    "\n",
    "print_two_tree(tree1)\n"
   ]
  },
  {
   "cell_type": "code",
   "execution_count": 2,
   "metadata": {},
   "outputs": [
    {
     "data": {
      "text/plain": [
       "True"
      ]
     },
     "execution_count": 2,
     "metadata": {},
     "output_type": "execute_result"
    }
   ],
   "source": [
    "# 验证一个序列是否是一个二叉搜索树的后序遍历序列\n",
    "\n",
    "def verify_of_BST(numbers):\n",
    "    if numbers:\n",
    "        root = numbers[-1]\n",
    "\n",
    "        i = 0\n",
    "        for i in range(len(numbers) - 1):\n",
    "            if numbers[i] > root:\n",
    "                break\n",
    "\n",
    "        j = i\n",
    "        for j in range(i, len(numbers) - 1):\n",
    "            if numbers[j] < root:\n",
    "                return False\n",
    "\n",
    "        left = True\n",
    "        if i > 0:\n",
    "            left = verify_of_BST(numbers[:i])\n",
    "\n",
    "        right = True\n",
    "        if i < len(numbers) - 1:\n",
    "            right = verify_of_BST(numbers[i:len(numbers) - 1])\n",
    "        \n",
    "        return left and right        \n",
    "\n",
    "    return False\n",
    "\n",
    "numbers = [5, 7, 6, 9, 11, 10, 8]\n",
    "\n",
    "verify_of_BST(numbers)"
   ]
  },
  {
   "cell_type": "code",
   "execution_count": 11,
   "metadata": {},
   "outputs": [
    {
     "name": "stdout",
     "output_type": "stream",
     "text": [
      "path is found: 10-5-7\n",
      "path is found: 10-12\n"
     ]
    }
   ],
   "source": [
    "# 在二叉树中寻找路径之和为指定的一条路径\n",
    "\n",
    "def find_tree_path(tree, number, path, current_num):\n",
    "    if tree:\n",
    "        current_num += tree.value\n",
    "        path.append(str(tree.value))\n",
    "        is_leaf = tree.left is None and tree.right is None\n",
    "        if is_leaf and current_num == number:\n",
    "            print(\"path is found: {}\".format(\"-\".join(path)))\n",
    "        \n",
    "        if tree.left:\n",
    "            find_tree_path(tree.left, number, path, current_num)\n",
    "        \n",
    "        if tree.right:\n",
    "            find_tree_path(tree.right, number, path, current_num)\n",
    "        \n",
    "        path.pop()\n",
    "\n",
    "def find_path(tree, number):\n",
    "    path = []\n",
    "    current_num = 0\n",
    "\n",
    "    find_tree_path(tree, number, path, current_num)\n",
    "\n",
    "\n",
    "class Tree():\n",
    "    def __init__(self, value) -> None:\n",
    "        self.value = value\n",
    "        self.left = None\n",
    "        self.right = None\n",
    "\n",
    "tree1 = Tree(10)\n",
    "tree2 = Tree(5)\n",
    "tree3 = Tree(12)\n",
    "tree4 = Tree(4)\n",
    "tree5 = Tree(7)\n",
    "\n",
    "tree1.left = tree2\n",
    "tree1.right = tree3\n",
    "\n",
    "tree2.left = tree4\n",
    "tree2.right = tree5\n",
    "\n",
    "find_path(tree1, 22)"
   ]
  },
  {
   "cell_type": "code",
   "execution_count": 14,
   "metadata": {},
   "outputs": [
    {
     "name": "stdout",
     "output_type": "stream",
     "text": [
      "a\n",
      "b\n",
      "c\n",
      "d\n",
      "e\n"
     ]
    }
   ],
   "source": [
    "# 复制复杂链表\n",
    "\n",
    "class Node(object):\n",
    "    def __init__(self, value):\n",
    "        self.value = value\n",
    "        self.next = None\n",
    "        self.sibling = None\n",
    "\n",
    "def clone_node(head):\n",
    "    p_head = head\n",
    "\n",
    "    while p_head:\n",
    "        clone_node = Node(p_head.value)\n",
    "        clone_node.next = p_head.next\n",
    "        p_head.next = clone_node\n",
    "        p_head = clone_node.next\n",
    "\n",
    "    return head\n",
    "\n",
    "def connect_sibling_node(head):\n",
    "    p_node = head\n",
    "    while p_node:\n",
    "        if p_node.sibling:\n",
    "            p_node.next.sibling = p_node.sibling.next\n",
    "\n",
    "        p_node = p_node.next\n",
    "    \n",
    "    return head\n",
    "\n",
    "def reconnect_node(head):\n",
    "    p_node = head\n",
    "    p_clone_head = None\n",
    "    p_clone_node = None\n",
    "\n",
    "    if p_node:\n",
    "        p_clone_head = p_node.next\n",
    "        p_clone_node = p_node.next\n",
    "        p_node = p_clone_node.next\n",
    "\n",
    "    while p_node:\n",
    "        p_clone_node.next = p_node.next\n",
    "        p_clone_node = p_clone_node.next\n",
    "        p_node.next = p_clone_node.next\n",
    "        p_node = p_node.next\n",
    "    \n",
    "    return p_clone_head\n",
    "\n",
    "def clone(head):\n",
    "    head = clone_node(head)\n",
    "    head = connect_sibling_node(head)\n",
    "    head = reconnect_node(head)\n",
    "\n",
    "    while head:\n",
    "        print(head.value)\n",
    "        head = head.next\n",
    "\n",
    "node1 = Node('a')\n",
    "node2 = Node('b')\n",
    "node3 = Node('c')\n",
    "node4 = Node('d')\n",
    "node5 = Node('e')\n",
    "\n",
    "node1.next = node2\n",
    "node2.next = node3\n",
    "node3.next = node4\n",
    "node4.next = node5\n",
    "\n",
    "node1.sibling = node3\n",
    "node2.sibling = node5\n",
    "node4.sibling = node2\n",
    "\n",
    "clone(node1)"
   ]
  },
  {
   "cell_type": "code",
   "execution_count": 3,
   "metadata": {},
   "outputs": [
    {
     "data": {
      "text/plain": [
       "['((()))', '(()())', '(())()', '()(())', '()()()']"
      ]
     },
     "execution_count": 3,
     "metadata": {},
     "output_type": "execute_result"
    }
   ],
   "source": [
    "# 数字 n 代表生成括号的对数，请你设计一个函数，用于能够生成所有可能的并且 有效的 括号组合。\n",
    "\n",
    "def letter_guohao(n):\n",
    "    ans = []\n",
    "    tmp = []\n",
    "    def backtrack(s, left, right):\n",
    "        if len(s) == 2 * n:\n",
    "            ans.append(\"\".join(tmp))\n",
    "            return\n",
    "        if left < n:\n",
    "            tmp.append(\"(\")\n",
    "            backtrack(tmp, left+1, right)\n",
    "            tmp.pop()\n",
    "        if right < left:\n",
    "            tmp.append(\")\")\n",
    "            backtrack(tmp, left, right+1)\n",
    "            tmp.pop()\n",
    "            \n",
    "    backtrack([], 0, 0)\n",
    "    \n",
    "    return ans\n",
    "\n",
    "letter_guohao(3)"
   ]
  },
  {
   "cell_type": "code",
   "execution_count": 6,
   "metadata": {},
   "outputs": [
    {
     "data": {
      "text/plain": [
       "False"
      ]
     },
     "execution_count": 6,
     "metadata": {},
     "output_type": "execute_result"
    }
   ],
   "source": [
    "def test(numbers, target):\n",
    "    result = False\n",
    "\n",
    "    def dfs(index, sum):\n",
    "        if sum == target:\n",
    "            return True\n",
    "\n",
    "        for i in range(index, len(numbers)):\n",
    "            sum += numbers[i]\n",
    "            result = dfs(i+1, sum)\n",
    "            if result:\n",
    "                return True\n",
    "            sum -= numbers[i]\n",
    "        \n",
    "        return False\n",
    "\n",
    "    result = dfs(0, 0)\n",
    "\n",
    "    return result\n",
    "\n",
    "\n",
    "numbers = [1, 4, 23, 40, 3, 1]\n",
    "test(numbers, 50)"
   ]
  },
  {
   "cell_type": "code",
   "execution_count": null,
   "metadata": {},
   "outputs": [],
   "source": []
  }
 ],
 "metadata": {
  "interpreter": {
   "hash": "7e6a15f6b96dd8f4ef7aa1f1ef746743c3dcdc90d8427aa83e4a04d86e5130e4"
  },
  "kernelspec": {
   "display_name": "Python 3",
   "language": "python",
   "name": "python3"
  },
  "language_info": {
   "codemirror_mode": {
    "name": "ipython",
    "version": 3
   },
   "file_extension": ".py",
   "mimetype": "text/x-python",
   "name": "python",
   "nbconvert_exporter": "python",
   "pygments_lexer": "ipython3",
   "version": "3.7.0"
  }
 },
 "nbformat": 4,
 "nbformat_minor": 4
}
